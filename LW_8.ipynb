{
 "cells": [
  {
   "cell_type": "code",
   "execution_count": 200,
   "id": "bbb8842f-6d45-4b0a-96a4-6a6492714add",
   "metadata": {},
   "outputs": [
    {
     "name": "stdout",
     "output_type": "stream",
     "text": [
      "Номер варіанту 5\n",
      "Вправи:  [2, 4, 6, 7, 9, 10, 15, 16, 17, 18, 20, 21, 22, 23, 24, 25, 26, 27]\n"
     ]
    }
   ],
   "source": [
    "n = 15\n",
    "N = (n + 4 ) % 5 + 1\n",
    "print(\"Номер варіанту\", N)\n",
    "list = [2, 4, 6, 7, 9, 10, 15, 16, 17, 18, 20, 21, 22, 23, \n",
    "24, 25, 26, 27]\n",
    "print(\"Вправи: \", list)"
   ]
  },
  {
   "cell_type": "markdown",
   "id": "661a6cb1-8f0d-4f72-a2c1-f094735db97b",
   "metadata": {},
   "source": [
    "### **2. Вивести останні 8 рядків набору даних.**"
   ]
  },
  {
   "cell_type": "code",
   "execution_count": 203,
   "id": "3ad7d6d3-4880-4820-bdbd-19d3b9ebd36d",
   "metadata": {},
   "outputs": [
    {
     "data": {
      "text/html": [
       "<div>\n",
       "<style scoped>\n",
       "    .dataframe tbody tr th:only-of-type {\n",
       "        vertical-align: middle;\n",
       "    }\n",
       "\n",
       "    .dataframe tbody tr th {\n",
       "        vertical-align: top;\n",
       "    }\n",
       "\n",
       "    .dataframe thead th {\n",
       "        text-align: right;\n",
       "    }\n",
       "</style>\n",
       "<table border=\"1\" class=\"dataframe\">\n",
       "  <thead>\n",
       "    <tr style=\"text-align: right;\">\n",
       "      <th></th>\n",
       "      <th>Id</th>\n",
       "      <th>Name</th>\n",
       "      <th>Year</th>\n",
       "      <th>Gender</th>\n",
       "      <th>Count</th>\n",
       "    </tr>\n",
       "  </thead>\n",
       "  <tbody>\n",
       "    <tr>\n",
       "      <th>1825425</th>\n",
       "      <td>1825426</td>\n",
       "      <td>Zo</td>\n",
       "      <td>2014</td>\n",
       "      <td>M</td>\n",
       "      <td>5</td>\n",
       "    </tr>\n",
       "    <tr>\n",
       "      <th>1825426</th>\n",
       "      <td>1825427</td>\n",
       "      <td>Zyeir</td>\n",
       "      <td>2014</td>\n",
       "      <td>M</td>\n",
       "      <td>5</td>\n",
       "    </tr>\n",
       "    <tr>\n",
       "      <th>1825427</th>\n",
       "      <td>1825428</td>\n",
       "      <td>Zyel</td>\n",
       "      <td>2014</td>\n",
       "      <td>M</td>\n",
       "      <td>5</td>\n",
       "    </tr>\n",
       "    <tr>\n",
       "      <th>1825428</th>\n",
       "      <td>1825429</td>\n",
       "      <td>Zykeem</td>\n",
       "      <td>2014</td>\n",
       "      <td>M</td>\n",
       "      <td>5</td>\n",
       "    </tr>\n",
       "    <tr>\n",
       "      <th>1825429</th>\n",
       "      <td>1825430</td>\n",
       "      <td>Zymeer</td>\n",
       "      <td>2014</td>\n",
       "      <td>M</td>\n",
       "      <td>5</td>\n",
       "    </tr>\n",
       "    <tr>\n",
       "      <th>1825430</th>\n",
       "      <td>1825431</td>\n",
       "      <td>Zymiere</td>\n",
       "      <td>2014</td>\n",
       "      <td>M</td>\n",
       "      <td>5</td>\n",
       "    </tr>\n",
       "    <tr>\n",
       "      <th>1825431</th>\n",
       "      <td>1825432</td>\n",
       "      <td>Zyran</td>\n",
       "      <td>2014</td>\n",
       "      <td>M</td>\n",
       "      <td>5</td>\n",
       "    </tr>\n",
       "    <tr>\n",
       "      <th>1825432</th>\n",
       "      <td>1825433</td>\n",
       "      <td>Zyrin</td>\n",
       "      <td>2014</td>\n",
       "      <td>M</td>\n",
       "      <td>5</td>\n",
       "    </tr>\n",
       "  </tbody>\n",
       "</table>\n",
       "</div>"
      ],
      "text/plain": [
       "              Id     Name  Year Gender  Count\n",
       "1825425  1825426       Zo  2014      M      5\n",
       "1825426  1825427    Zyeir  2014      M      5\n",
       "1825427  1825428     Zyel  2014      M      5\n",
       "1825428  1825429   Zykeem  2014      M      5\n",
       "1825429  1825430   Zymeer  2014      M      5\n",
       "1825430  1825431  Zymiere  2014      M      5\n",
       "1825431  1825432    Zyran  2014      M      5\n",
       "1825432  1825433    Zyrin  2014      M      5"
      ]
     },
     "execution_count": 203,
     "metadata": {},
     "output_type": "execute_result"
    }
   ],
   "source": [
    "import pandas as pd\n",
    "import numpy as np\n",
    "import matplotlib.pyplot as plt\n",
    "import seaborn as sns\n",
    "df = pd.read_csv(r\"C:\\Users\\sanch\\NationalNames.csv\")\n",
    "df[-8:]"
   ]
  },
  {
   "cell_type": "markdown",
   "id": "4efca807-8b0b-4804-a13e-c3ea74b3bf8c",
   "metadata": {},
   "source": [
    "### ** 4. Отримайте загальну інформацію про дані у наборі даних. **"
   ]
  },
  {
   "cell_type": "code",
   "execution_count": 205,
   "id": "35a00caf-200b-4c3c-b203-4b2e93bd8084",
   "metadata": {},
   "outputs": [
    {
     "data": {
      "text/html": [
       "<div>\n",
       "<style scoped>\n",
       "    .dataframe tbody tr th:only-of-type {\n",
       "        vertical-align: middle;\n",
       "    }\n",
       "\n",
       "    .dataframe tbody tr th {\n",
       "        vertical-align: top;\n",
       "    }\n",
       "\n",
       "    .dataframe thead th {\n",
       "        text-align: right;\n",
       "    }\n",
       "</style>\n",
       "<table border=\"1\" class=\"dataframe\">\n",
       "  <thead>\n",
       "    <tr style=\"text-align: right;\">\n",
       "      <th></th>\n",
       "      <th>Id</th>\n",
       "      <th>Year</th>\n",
       "      <th>Count</th>\n",
       "    </tr>\n",
       "  </thead>\n",
       "  <tbody>\n",
       "    <tr>\n",
       "      <th>count</th>\n",
       "      <td>1.825433e+06</td>\n",
       "      <td>1.825433e+06</td>\n",
       "      <td>1.825433e+06</td>\n",
       "    </tr>\n",
       "    <tr>\n",
       "      <th>mean</th>\n",
       "      <td>9.127170e+05</td>\n",
       "      <td>1.972620e+03</td>\n",
       "      <td>1.846879e+02</td>\n",
       "    </tr>\n",
       "    <tr>\n",
       "      <th>std</th>\n",
       "      <td>5.269573e+05</td>\n",
       "      <td>3.352891e+01</td>\n",
       "      <td>1.566711e+03</td>\n",
       "    </tr>\n",
       "    <tr>\n",
       "      <th>min</th>\n",
       "      <td>1.000000e+00</td>\n",
       "      <td>1.880000e+03</td>\n",
       "      <td>5.000000e+00</td>\n",
       "    </tr>\n",
       "    <tr>\n",
       "      <th>25%</th>\n",
       "      <td>4.563590e+05</td>\n",
       "      <td>1.949000e+03</td>\n",
       "      <td>7.000000e+00</td>\n",
       "    </tr>\n",
       "    <tr>\n",
       "      <th>50%</th>\n",
       "      <td>9.127170e+05</td>\n",
       "      <td>1.982000e+03</td>\n",
       "      <td>1.200000e+01</td>\n",
       "    </tr>\n",
       "    <tr>\n",
       "      <th>75%</th>\n",
       "      <td>1.369075e+06</td>\n",
       "      <td>2.001000e+03</td>\n",
       "      <td>3.200000e+01</td>\n",
       "    </tr>\n",
       "    <tr>\n",
       "      <th>max</th>\n",
       "      <td>1.825433e+06</td>\n",
       "      <td>2.014000e+03</td>\n",
       "      <td>9.968000e+04</td>\n",
       "    </tr>\n",
       "  </tbody>\n",
       "</table>\n",
       "</div>"
      ],
      "text/plain": [
       "                 Id          Year         Count\n",
       "count  1.825433e+06  1.825433e+06  1.825433e+06\n",
       "mean   9.127170e+05  1.972620e+03  1.846879e+02\n",
       "std    5.269573e+05  3.352891e+01  1.566711e+03\n",
       "min    1.000000e+00  1.880000e+03  5.000000e+00\n",
       "25%    4.563590e+05  1.949000e+03  7.000000e+00\n",
       "50%    9.127170e+05  1.982000e+03  1.200000e+01\n",
       "75%    1.369075e+06  2.001000e+03  3.200000e+01\n",
       "max    1.825433e+06  2.014000e+03  9.968000e+04"
      ]
     },
     "execution_count": 205,
     "metadata": {},
     "output_type": "execute_result"
    }
   ],
   "source": [
    "df.describe()"
   ]
  },
  {
   "cell_type": "markdown",
   "id": "982980d0-813d-4bb3-9ccf-32eac6e47f85",
   "metadata": {},
   "source": [
    "### ** 6. Обчисліть кількість унікальних жіночих та чоловічих імен у цілому наборі даних. **"
   ]
  },
  {
   "cell_type": "code",
   "execution_count": 207,
   "id": "ec3ffa16-2606-45aa-9bcf-e31d59e34d6b",
   "metadata": {},
   "outputs": [
    {
     "data": {
      "text/html": [
       "<div>\n",
       "<style scoped>\n",
       "    .dataframe tbody tr th:only-of-type {\n",
       "        vertical-align: middle;\n",
       "    }\n",
       "\n",
       "    .dataframe tbody tr th {\n",
       "        vertical-align: top;\n",
       "    }\n",
       "\n",
       "    .dataframe thead th {\n",
       "        text-align: right;\n",
       "    }\n",
       "</style>\n",
       "<table border=\"1\" class=\"dataframe\">\n",
       "  <thead>\n",
       "    <tr style=\"text-align: right;\">\n",
       "      <th></th>\n",
       "      <th>Name</th>\n",
       "    </tr>\n",
       "    <tr>\n",
       "      <th>Gender</th>\n",
       "      <th></th>\n",
       "    </tr>\n",
       "  </thead>\n",
       "  <tbody>\n",
       "    <tr>\n",
       "      <th>F</th>\n",
       "      <td>64911</td>\n",
       "    </tr>\n",
       "    <tr>\n",
       "      <th>M</th>\n",
       "      <td>39199</td>\n",
       "    </tr>\n",
       "  </tbody>\n",
       "</table>\n",
       "</div>"
      ],
      "text/plain": [
       "         Name\n",
       "Gender       \n",
       "F       64911\n",
       "M       39199"
      ]
     },
     "execution_count": 207,
     "metadata": {},
     "output_type": "execute_result"
    }
   ],
   "source": [
    "FC = df[df['Gender'] == 'F']['Name'].nunique()\n",
    "MC = df[df['Gender'] == 'M']['Name'].nunique()\n",
    "number_of_names = pd.DataFrame({\n",
    "    'Gender' : ['F', 'M'],\n",
    "    'Name': [FC, MC]})\n",
    "number_of_names = number_of_names.set_index('Gender')\n",
    "number_of_names"
   ]
  },
  {
   "cell_type": "markdown",
   "id": "0b21c6f8-6adc-4078-9ac6-eee76c7c174b",
   "metadata": {},
   "source": [
    "### ** 7. Знайдіть 5 найпопулярніших чоловічих імен у 2010 році.  **"
   ]
  },
  {
   "cell_type": "code",
   "execution_count": 209,
   "id": "3fb1e0b6-70d4-499b-9163-de854af518e2",
   "metadata": {},
   "outputs": [
    {
     "data": {
      "text/html": [
       "<div>\n",
       "<style scoped>\n",
       "    .dataframe tbody tr th:only-of-type {\n",
       "        vertical-align: middle;\n",
       "    }\n",
       "\n",
       "    .dataframe tbody tr th {\n",
       "        vertical-align: top;\n",
       "    }\n",
       "\n",
       "    .dataframe thead th {\n",
       "        text-align: right;\n",
       "    }\n",
       "</style>\n",
       "<table border=\"1\" class=\"dataframe\">\n",
       "  <thead>\n",
       "    <tr style=\"text-align: right;\">\n",
       "      <th></th>\n",
       "      <th>Id</th>\n",
       "      <th>Name</th>\n",
       "      <th>Year</th>\n",
       "      <th>Gender</th>\n",
       "      <th>Count</th>\n",
       "    </tr>\n",
       "  </thead>\n",
       "  <tbody>\n",
       "    <tr>\n",
       "      <th>1677392</th>\n",
       "      <td>1677393</td>\n",
       "      <td>Jacob</td>\n",
       "      <td>2010</td>\n",
       "      <td>M</td>\n",
       "      <td>22082</td>\n",
       "    </tr>\n",
       "    <tr>\n",
       "      <th>1677393</th>\n",
       "      <td>1677394</td>\n",
       "      <td>Ethan</td>\n",
       "      <td>2010</td>\n",
       "      <td>M</td>\n",
       "      <td>17985</td>\n",
       "    </tr>\n",
       "    <tr>\n",
       "      <th>1677394</th>\n",
       "      <td>1677395</td>\n",
       "      <td>Michael</td>\n",
       "      <td>2010</td>\n",
       "      <td>M</td>\n",
       "      <td>17308</td>\n",
       "    </tr>\n",
       "    <tr>\n",
       "      <th>1677395</th>\n",
       "      <td>1677396</td>\n",
       "      <td>Jayden</td>\n",
       "      <td>2010</td>\n",
       "      <td>M</td>\n",
       "      <td>17152</td>\n",
       "    </tr>\n",
       "    <tr>\n",
       "      <th>1677396</th>\n",
       "      <td>1677397</td>\n",
       "      <td>William</td>\n",
       "      <td>2010</td>\n",
       "      <td>M</td>\n",
       "      <td>17030</td>\n",
       "    </tr>\n",
       "  </tbody>\n",
       "</table>\n",
       "</div>"
      ],
      "text/plain": [
       "              Id     Name  Year Gender  Count\n",
       "1677392  1677393    Jacob  2010      M  22082\n",
       "1677393  1677394    Ethan  2010      M  17985\n",
       "1677394  1677395  Michael  2010      M  17308\n",
       "1677395  1677396   Jayden  2010      M  17152\n",
       "1677396  1677397  William  2010      M  17030"
      ]
     },
     "execution_count": 209,
     "metadata": {},
     "output_type": "execute_result"
    }
   ],
   "source": [
    "top_5_names = df[(df['Year'] == 2010) & (df['Gender'] == 'M')]\n",
    "top_5_names = top_5_names.sort_values(by = 'Count', ascending = False).head(5)\n",
    "top_5_names"
   ]
  },
  {
   "cell_type": "markdown",
   "id": "7bdde534-61f1-4a28-b88b-be8d8230a466",
   "metadata": {},
   "source": [
    "### ** 9. Підрахуйте кількість записів, для яких Count - мінімальне у наборі. **"
   ]
  },
  {
   "cell_type": "code",
   "execution_count": 213,
   "id": "cdae17bc-cb3f-430a-8cb3-d32fc68f180c",
   "metadata": {},
   "outputs": [
    {
     "data": {
      "text/plain": [
       "254615"
      ]
     },
     "execution_count": 213,
     "metadata": {},
     "output_type": "execute_result"
    }
   ],
   "source": [
    "min_count = df['Count'].min()\n",
    "min_count_records = df[df['Count'] == min_count].shape[0]\n",
    "min_count_records"
   ]
  },
  {
   "cell_type": "markdown",
   "id": "3a3ad464-9fb8-4888-96bc-4245aafc267f",
   "metadata": {},
   "source": [
    "### ** 10. Підрахуйте кількість унікальних імен у кожному році. **"
   ]
  },
  {
   "cell_type": "code",
   "execution_count": 215,
   "id": "536828f7-37a0-4a2a-a252-f6534a6bc8df",
   "metadata": {},
   "outputs": [
    {
     "data": {
      "text/html": [
       "<div>\n",
       "<style scoped>\n",
       "    .dataframe tbody tr th:only-of-type {\n",
       "        vertical-align: middle;\n",
       "    }\n",
       "\n",
       "    .dataframe tbody tr th {\n",
       "        vertical-align: top;\n",
       "    }\n",
       "\n",
       "    .dataframe thead th {\n",
       "        text-align: right;\n",
       "    }\n",
       "</style>\n",
       "<table border=\"1\" class=\"dataframe\">\n",
       "  <thead>\n",
       "    <tr style=\"text-align: right;\">\n",
       "      <th></th>\n",
       "      <th>Year</th>\n",
       "      <th>Name</th>\n",
       "    </tr>\n",
       "  </thead>\n",
       "  <tbody>\n",
       "    <tr>\n",
       "      <th>0</th>\n",
       "      <td>1880</td>\n",
       "      <td>1889</td>\n",
       "    </tr>\n",
       "    <tr>\n",
       "      <th>1</th>\n",
       "      <td>1881</td>\n",
       "      <td>1830</td>\n",
       "    </tr>\n",
       "    <tr>\n",
       "      <th>2</th>\n",
       "      <td>1882</td>\n",
       "      <td>2012</td>\n",
       "    </tr>\n",
       "    <tr>\n",
       "      <th>3</th>\n",
       "      <td>1883</td>\n",
       "      <td>1962</td>\n",
       "    </tr>\n",
       "    <tr>\n",
       "      <th>4</th>\n",
       "      <td>1884</td>\n",
       "      <td>2158</td>\n",
       "    </tr>\n",
       "    <tr>\n",
       "      <th>...</th>\n",
       "      <td>...</td>\n",
       "      <td>...</td>\n",
       "    </tr>\n",
       "    <tr>\n",
       "      <th>130</th>\n",
       "      <td>2010</td>\n",
       "      <td>31603</td>\n",
       "    </tr>\n",
       "    <tr>\n",
       "      <th>131</th>\n",
       "      <td>2011</td>\n",
       "      <td>31418</td>\n",
       "    </tr>\n",
       "    <tr>\n",
       "      <th>132</th>\n",
       "      <td>2012</td>\n",
       "      <td>31236</td>\n",
       "    </tr>\n",
       "    <tr>\n",
       "      <th>133</th>\n",
       "      <td>2013</td>\n",
       "      <td>30774</td>\n",
       "    </tr>\n",
       "    <tr>\n",
       "      <th>134</th>\n",
       "      <td>2014</td>\n",
       "      <td>30579</td>\n",
       "    </tr>\n",
       "  </tbody>\n",
       "</table>\n",
       "<p>135 rows × 2 columns</p>\n",
       "</div>"
      ],
      "text/plain": [
       "     Year   Name\n",
       "0    1880   1889\n",
       "1    1881   1830\n",
       "2    1882   2012\n",
       "3    1883   1962\n",
       "4    1884   2158\n",
       "..    ...    ...\n",
       "130  2010  31603\n",
       "131  2011  31418\n",
       "132  2012  31236\n",
       "133  2013  30774\n",
       "134  2014  30579\n",
       "\n",
       "[135 rows x 2 columns]"
      ]
     },
     "execution_count": 215,
     "metadata": {},
     "output_type": "execute_result"
    }
   ],
   "source": [
    "unique = df.groupby('Year')['Name'].nunique().reset_index()\n",
    "unique = unique.set_index('Year')\n",
    "unique"
   ]
  },
  {
   "cell_type": "markdown",
   "id": "feb9397c-17ad-4d1a-8e32-a7771d250416",
   "metadata": {},
   "source": [
    "### ** 15. Знайдіть загальну кількість народжень за рік. **"
   ]
  },
  {
   "cell_type": "code",
   "execution_count": 218,
   "id": "adf08201-7c03-43f4-8224-0d016ac9338c",
   "metadata": {},
   "outputs": [
    {
     "data": {
      "text/html": [
       "<div>\n",
       "<style scoped>\n",
       "    .dataframe tbody tr th:only-of-type {\n",
       "        vertical-align: middle;\n",
       "    }\n",
       "\n",
       "    .dataframe tbody tr th {\n",
       "        vertical-align: top;\n",
       "    }\n",
       "\n",
       "    .dataframe thead th {\n",
       "        text-align: right;\n",
       "    }\n",
       "</style>\n",
       "<table border=\"1\" class=\"dataframe\">\n",
       "  <thead>\n",
       "    <tr style=\"text-align: right;\">\n",
       "      <th></th>\n",
       "      <th>Count</th>\n",
       "    </tr>\n",
       "    <tr>\n",
       "      <th>Year</th>\n",
       "      <th></th>\n",
       "    </tr>\n",
       "  </thead>\n",
       "  <tbody>\n",
       "    <tr>\n",
       "      <th>1880</th>\n",
       "      <td>201484</td>\n",
       "    </tr>\n",
       "    <tr>\n",
       "      <th>1881</th>\n",
       "      <td>192699</td>\n",
       "    </tr>\n",
       "    <tr>\n",
       "      <th>1882</th>\n",
       "      <td>221538</td>\n",
       "    </tr>\n",
       "    <tr>\n",
       "      <th>1883</th>\n",
       "      <td>216950</td>\n",
       "    </tr>\n",
       "    <tr>\n",
       "      <th>1884</th>\n",
       "      <td>243467</td>\n",
       "    </tr>\n",
       "    <tr>\n",
       "      <th>...</th>\n",
       "      <td>...</td>\n",
       "    </tr>\n",
       "    <tr>\n",
       "      <th>2010</th>\n",
       "      <td>3686589</td>\n",
       "    </tr>\n",
       "    <tr>\n",
       "      <th>2011</th>\n",
       "      <td>3646730</td>\n",
       "    </tr>\n",
       "    <tr>\n",
       "      <th>2012</th>\n",
       "      <td>3643336</td>\n",
       "    </tr>\n",
       "    <tr>\n",
       "      <th>2013</th>\n",
       "      <td>3626802</td>\n",
       "    </tr>\n",
       "    <tr>\n",
       "      <th>2014</th>\n",
       "      <td>3670151</td>\n",
       "    </tr>\n",
       "  </tbody>\n",
       "</table>\n",
       "<p>135 rows × 1 columns</p>\n",
       "</div>"
      ],
      "text/plain": [
       "        Count\n",
       "Year         \n",
       "1880   201484\n",
       "1881   192699\n",
       "1882   221538\n",
       "1883   216950\n",
       "1884   243467\n",
       "...       ...\n",
       "2010  3686589\n",
       "2011  3646730\n",
       "2012  3643336\n",
       "2013  3626802\n",
       "2014  3670151\n",
       "\n",
       "[135 rows x 1 columns]"
      ]
     },
     "execution_count": 218,
     "metadata": {},
     "output_type": "execute_result"
    }
   ],
   "source": [
    "birth = df.groupby('Year').agg({'Count': 'sum'})\n",
    "birth"
   ]
  },
  {
   "cell_type": "markdown",
   "id": "e6c806cb-55c4-4720-8120-a06a2ff5f787",
   "metadata": {},
   "source": [
    "### ** 16. Знайдіть рік, коли народилося найбільше дітей. **"
   ]
  },
  {
   "cell_type": "code",
   "execution_count": 221,
   "id": "d60c7b5e-0e40-40db-9856-f8127a4d3334",
   "metadata": {},
   "outputs": [
    {
     "data": {
      "text/plain": [
       "1957"
      ]
     },
     "execution_count": 221,
     "metadata": {},
     "output_type": "execute_result"
    }
   ],
   "source": [
    "max_births_year = birth['Count'].idxmax()\n",
    "max_births_year"
   ]
  },
  {
   "cell_type": "markdown",
   "id": "fa6eb49a-4bb0-4585-b7a8-f9d0be463e23",
   "metadata": {},
   "source": [
    "### ** 17. Знайдіть кількість дівчаток та хлопчиків, які народились кожного року. **"
   ]
  },
  {
   "cell_type": "code",
   "execution_count": 224,
   "id": "7b4d6eb8-8d98-4f72-8fd8-a63de4f624d6",
   "metadata": {},
   "outputs": [
    {
     "data": {
      "text/html": [
       "<div>\n",
       "<style scoped>\n",
       "    .dataframe tbody tr th:only-of-type {\n",
       "        vertical-align: middle;\n",
       "    }\n",
       "\n",
       "    .dataframe tbody tr th {\n",
       "        vertical-align: top;\n",
       "    }\n",
       "\n",
       "    .dataframe thead th {\n",
       "        text-align: right;\n",
       "    }\n",
       "</style>\n",
       "<table border=\"1\" class=\"dataframe\">\n",
       "  <thead>\n",
       "    <tr style=\"text-align: right;\">\n",
       "      <th>Gender</th>\n",
       "      <th>F</th>\n",
       "      <th>M</th>\n",
       "    </tr>\n",
       "    <tr>\n",
       "      <th>Year</th>\n",
       "      <th></th>\n",
       "      <th></th>\n",
       "    </tr>\n",
       "  </thead>\n",
       "  <tbody>\n",
       "    <tr>\n",
       "      <th>1880</th>\n",
       "      <td>90993</td>\n",
       "      <td>110491</td>\n",
       "    </tr>\n",
       "    <tr>\n",
       "      <th>1881</th>\n",
       "      <td>91954</td>\n",
       "      <td>100745</td>\n",
       "    </tr>\n",
       "    <tr>\n",
       "      <th>1882</th>\n",
       "      <td>107850</td>\n",
       "      <td>113688</td>\n",
       "    </tr>\n",
       "    <tr>\n",
       "      <th>1883</th>\n",
       "      <td>112321</td>\n",
       "      <td>104629</td>\n",
       "    </tr>\n",
       "    <tr>\n",
       "      <th>1884</th>\n",
       "      <td>129022</td>\n",
       "      <td>114445</td>\n",
       "    </tr>\n",
       "    <tr>\n",
       "      <th>...</th>\n",
       "      <td>...</td>\n",
       "      <td>...</td>\n",
       "    </tr>\n",
       "    <tr>\n",
       "      <th>2010</th>\n",
       "      <td>1772738</td>\n",
       "      <td>1913851</td>\n",
       "    </tr>\n",
       "    <tr>\n",
       "      <th>2011</th>\n",
       "      <td>1753500</td>\n",
       "      <td>1893230</td>\n",
       "    </tr>\n",
       "    <tr>\n",
       "      <th>2012</th>\n",
       "      <td>1753922</td>\n",
       "      <td>1889414</td>\n",
       "    </tr>\n",
       "    <tr>\n",
       "      <th>2013</th>\n",
       "      <td>1745339</td>\n",
       "      <td>1881463</td>\n",
       "    </tr>\n",
       "    <tr>\n",
       "      <th>2014</th>\n",
       "      <td>1768775</td>\n",
       "      <td>1901376</td>\n",
       "    </tr>\n",
       "  </tbody>\n",
       "</table>\n",
       "<p>135 rows × 2 columns</p>\n",
       "</div>"
      ],
      "text/plain": [
       "Gender        F        M\n",
       "Year                    \n",
       "1880      90993   110491\n",
       "1881      91954   100745\n",
       "1882     107850   113688\n",
       "1883     112321   104629\n",
       "1884     129022   114445\n",
       "...         ...      ...\n",
       "2010    1772738  1913851\n",
       "2011    1753500  1893230\n",
       "2012    1753922  1889414\n",
       "2013    1745339  1881463\n",
       "2014    1768775  1901376\n",
       "\n",
       "[135 rows x 2 columns]"
      ]
     },
     "execution_count": 224,
     "metadata": {},
     "output_type": "execute_result"
    }
   ],
   "source": [
    "numbers_of_each_year = df.groupby(['Year', 'Gender'])['Count'].sum().unstack()\n",
    "numbers_of_each_year"
   ]
  },
  {
   "cell_type": "markdown",
   "id": "b220d24c-7157-4e54-86a7-31414c2aa4d5",
   "metadata": {},
   "source": [
    "### ** 18. Підрахуйте кількість років, коли дівчаток народжувалось більше, ніж хлопчиків. **"
   ]
  },
  {
   "cell_type": "code",
   "execution_count": 227,
   "id": "66472a71-a91f-4bd9-add6-faeabca8ec2e",
   "metadata": {},
   "outputs": [
    {
     "data": {
      "text/plain": [
       "54"
      ]
     },
     "execution_count": 227,
     "metadata": {},
     "output_type": "execute_result"
    }
   ],
   "source": [
    "more_F = numbers_of_each_year['F'] > numbers_of_each_year['M']\n",
    "Years = more_F.sum()\n",
    "Years"
   ]
  },
  {
   "cell_type": "markdown",
   "id": "1a9dedd1-ce7e-4906-8a8a-55bb81dabd1d",
   "metadata": {},
   "source": [
    "### ** 20. Підрахуйте кількість гендерно-нейтральних імен (однакових для дівчат та хлопців). **"
   ]
  },
  {
   "cell_type": "code",
   "execution_count": 231,
   "id": "84915a59-e34f-4863-a516-be9b7bf2080e",
   "metadata": {},
   "outputs": [
    {
     "data": {
      "text/plain": [
       "10221"
      ]
     },
     "execution_count": 231,
     "metadata": {},
     "output_type": "execute_result"
    }
   ],
   "source": [
    "similar_names = df.groupby('Name')['Gender'].nunique()\n",
    "neutral_names_count = (similar_names == 2).sum()\n",
    "neutral_names_count"
   ]
  },
  {
   "cell_type": "markdown",
   "id": "5060b231-7262-44f3-961c-8ca55f66eb70",
   "metadata": {},
   "source": [
    "### ** 21. Порахуйте, скільки разів хлопчиків називали Barbara. **"
   ]
  },
  {
   "cell_type": "code",
   "execution_count": 234,
   "id": "e89e24c7-bcf6-48e3-9b5e-98e7c661f728",
   "metadata": {},
   "outputs": [
    {
     "data": {
      "text/plain": [
       "4139"
      ]
     },
     "execution_count": 234,
     "metadata": {},
     "output_type": "execute_result"
    }
   ],
   "source": [
    "barbara_for_boys = df[(df['Name'] == 'Barbara') & (df['Gender'] == 'M')]['Count'].sum()\n",
    "barbara_for_boys"
   ]
  },
  {
   "cell_type": "markdown",
   "id": "e9acff79-6d83-49c3-8e1c-3137e61396b8",
   "metadata": {},
   "source": [
    "### ** 22. Підрахуйте скільки років проводилось спостереження. **"
   ]
  },
  {
   "cell_type": "code",
   "execution_count": 359,
   "id": "8001c1e1-73be-45ba-a99a-0ce384d5c8ad",
   "metadata": {},
   "outputs": [
    {
     "data": {
      "text/plain": [
       "135"
      ]
     },
     "execution_count": 359,
     "metadata": {},
     "output_type": "execute_result"
    }
   ],
   "source": [
    "sum_of_years = df['Year'].nunique()\n",
    "sum_of_years"
   ]
  },
  {
   "cell_type": "markdown",
   "id": "d99df7e8-f0e6-41fe-81f4-15afc69f38ab",
   "metadata": {},
   "source": [
    "### ** 23. Знати найпопулярніші гендерно-нейтральні імена (ті, що присутні кожного року.) **"
   ]
  },
  {
   "cell_type": "code",
   "execution_count": 373,
   "id": "c9e289c6-95e0-48b0-ab3c-b5fd340b6d59",
   "metadata": {},
   "outputs": [
    {
     "data": {
      "text/html": [
       "<div>\n",
       "<style scoped>\n",
       "    .dataframe tbody tr th:only-of-type {\n",
       "        vertical-align: middle;\n",
       "    }\n",
       "\n",
       "    .dataframe tbody tr th {\n",
       "        vertical-align: top;\n",
       "    }\n",
       "\n",
       "    .dataframe thead th {\n",
       "        text-align: right;\n",
       "    }\n",
       "</style>\n",
       "<table border=\"1\" class=\"dataframe\">\n",
       "  <thead>\n",
       "    <tr style=\"text-align: right;\">\n",
       "      <th></th>\n",
       "      <th>Name</th>\n",
       "    </tr>\n",
       "  </thead>\n",
       "  <tbody>\n",
       "  </tbody>\n",
       "</table>\n",
       "</div>"
      ],
      "text/plain": [
       "Empty DataFrame\n",
       "Columns: [Name]\n",
       "Index: []"
      ]
     },
     "execution_count": 373,
     "metadata": {},
     "output_type": "execute_result"
    }
   ],
   "source": [
    "# Загальна кількість років у наборі даних\n",
    "total_years = df['Year'].nunique()\n",
    "\n",
    "# Знаходимо імена, які використовуються і для хлопчиків, і для дівчаток\n",
    "neutral_names = df.groupby('Name')['Gender'].nunique()\n",
    "neutral_names = neutral_names[neutral_names == 2].index\n",
    "\n",
    "# Відбираємо тільки імена, що присутні в кожному році\n",
    "names_in_all_years = df[df['Name'].isin(neutral_names)]\n",
    "names_in_all_years = names_in_all_years.groupby('Name')['Year'].nunique()\n",
    "names_in_all_years = names_in_all_years[names_in_all_years == total_years].index\n",
    "#print(names_in_all_years)\n",
    "\n",
    "# Формуємо таблицю з нумерацією\n",
    "result_df = pd.DataFrame(names_in_all_years, columns=['Name']).reset_index(drop=True)\n",
    "result_df"
   ]
  },
  {
   "cell_type": "markdown",
   "id": "80237244-ef81-4b8a-a178-fef191435756",
   "metadata": {},
   "source": [
    "### ** 24. Знайти найпопулярніше серед непопулярних імен (непопулярне ім’я, яким називали дітей найбільшу кількість разів ) **"
   ]
  },
  {
   "cell_type": "code",
   "execution_count": 241,
   "id": "937cd869-93da-4313-bbbe-faafbc254400",
   "metadata": {},
   "outputs": [
    {
     "name": "stdout",
     "output_type": "stream",
     "text": [
      "Найбільш популярне з непопулярних імен - це Shaye. Їм називали 99 раз.\n"
     ]
    }
   ],
   "source": [
    "unpopular_names = df['Name'].value_counts()\n",
    "rare_names = unpopular_names[unpopular_names < 100]\n",
    "most_popular_of_unpopular = rare_names.idxmax()\n",
    "count = rare_names.max()\n",
    "print(f\"Найбільш популярне з непопулярних імен - це {most_popular_of_unpopular}. Їм називали {count} раз.\")"
   ]
  },
  {
   "cell_type": "markdown",
   "id": "fd1d7aaf-c4c9-41c3-8d0b-73db3605a53f",
   "metadata": {},
   "source": [
    "### ** 25. Побудувати графіки розподілення кількості імен John та Mary по роках без залежності до стат.  **"
   ]
  },
  {
   "cell_type": "code",
   "execution_count": 244,
   "id": "d3644719-2557-404d-9ac4-d085ac781f9e",
   "metadata": {},
   "outputs": [
    {
     "data": {
      "text/plain": [
       "Text(0, 0.5, 'Count')"
      ]
     },
     "execution_count": 244,
     "metadata": {},
     "output_type": "execute_result"
    },
    {
     "data": {
      "image/png": "[encoded data removed]",
      "text/plain": [
       "<Figure size 640x480 with 1 Axes>"
      ]
     },
     "metadata": {},
     "output_type": "display_data"
    }
   ],
   "source": [
    "x = df[df['Name'] == 'John'].groupby('Year')['Count'].sum()\n",
    "y = df[df['Name'] == 'Mary'].groupby('Year')['Count'].sum()\n",
    "\n",
    "plt.plot(x.index, x.values, label = 'John', color = 'blue')\n",
    "plt.plot(y.index, y.values, label = 'Mary', color = 'yellow')\n",
    "plt.legend()\n",
    "plt.xlabel('Year')\n",
    "plt.ylabel('Count')"
   ]
  },
  {
   "cell_type": "markdown",
   "id": "46cbfe29-966c-4dd8-92c6-4ba9ca45a2f7",
   "metadata": {},
   "source": [
    "### ** 26. Побудувати графіки розподілення кількості жіночих імен John та чоловічих імен Mary по роках. **"
   ]
  },
  {
   "cell_type": "code",
   "execution_count": 246,
   "id": "dec9ba48-c512-49e8-803a-b82dce2a39bb",
   "metadata": {},
   "outputs": [
    {
     "data": {
      "text/plain": [
       "Text(0, 0.5, 'Count')"
      ]
     },
     "execution_count": 246,
     "metadata": {},
     "output_type": "execute_result"
    },
    {
     "data": {
      "image/png": "[encoded data removed]",
      "text/plain": [
       "<Figure size 640x480 with 1 Axes>"
      ]
     },
     "metadata": {},
     "output_type": "display_data"
    }
   ],
   "source": [
    "x = df[(df['Name'] == 'John') & (df['Gender'] == 'F')].groupby('Year')['Count'].sum()\n",
    "y = df[(df['Name'] == 'Mary') & (df['Gender'] == 'M')].groupby('Year')['Count'].sum()\n",
    "\n",
    "\n",
    "plt.plot(x.index, x.values, label = 'John', color = 'blue')\n",
    "plt.plot(y.index, y.values, label = 'Mary', color = 'yellow')\n",
    "plt.legend()\n",
    "plt.xlabel('Year')\n",
    "plt.ylabel('Count')"
   ]
  },
  {
   "cell_type": "markdown",
   "id": "89c63872-bced-4330-8f3f-9e118adc9d25",
   "metadata": {},
   "source": [
    "### ** 27. Знайти найпопулярніші імена в кожному році. **"
   ]
  },
  {
   "cell_type": "code",
   "execution_count": 250,
   "id": "0940eeaa-4253-4f97-8c9e-580cec7bc810",
   "metadata": {},
   "outputs": [
    {
     "data": {
      "text/html": [
       "<div>\n",
       "<style scoped>\n",
       "    .dataframe tbody tr th:only-of-type {\n",
       "        vertical-align: middle;\n",
       "    }\n",
       "\n",
       "    .dataframe tbody tr th {\n",
       "        vertical-align: top;\n",
       "    }\n",
       "\n",
       "    .dataframe thead th {\n",
       "        text-align: right;\n",
       "    }\n",
       "</style>\n",
       "<table border=\"1\" class=\"dataframe\">\n",
       "  <thead>\n",
       "    <tr style=\"text-align: right;\">\n",
       "      <th></th>\n",
       "      <th>Name</th>\n",
       "      <th>Count</th>\n",
       "    </tr>\n",
       "    <tr>\n",
       "      <th>Year</th>\n",
       "      <th></th>\n",
       "      <th></th>\n",
       "    </tr>\n",
       "  </thead>\n",
       "  <tbody>\n",
       "    <tr>\n",
       "      <th>1880</th>\n",
       "      <td>John</td>\n",
       "      <td>9655</td>\n",
       "    </tr>\n",
       "    <tr>\n",
       "      <th>1881</th>\n",
       "      <td>John</td>\n",
       "      <td>8769</td>\n",
       "    </tr>\n",
       "    <tr>\n",
       "      <th>1882</th>\n",
       "      <td>John</td>\n",
       "      <td>9557</td>\n",
       "    </tr>\n",
       "    <tr>\n",
       "      <th>1883</th>\n",
       "      <td>John</td>\n",
       "      <td>8894</td>\n",
       "    </tr>\n",
       "    <tr>\n",
       "      <th>1884</th>\n",
       "      <td>John</td>\n",
       "      <td>9388</td>\n",
       "    </tr>\n",
       "    <tr>\n",
       "      <th>...</th>\n",
       "      <td>...</td>\n",
       "      <td>...</td>\n",
       "    </tr>\n",
       "    <tr>\n",
       "      <th>2010</th>\n",
       "      <td>Isabella</td>\n",
       "      <td>22883</td>\n",
       "    </tr>\n",
       "    <tr>\n",
       "      <th>2011</th>\n",
       "      <td>Sophia</td>\n",
       "      <td>21816</td>\n",
       "    </tr>\n",
       "    <tr>\n",
       "      <th>2012</th>\n",
       "      <td>Sophia</td>\n",
       "      <td>22267</td>\n",
       "    </tr>\n",
       "    <tr>\n",
       "      <th>2013</th>\n",
       "      <td>Sophia</td>\n",
       "      <td>21147</td>\n",
       "    </tr>\n",
       "    <tr>\n",
       "      <th>2014</th>\n",
       "      <td>Emma</td>\n",
       "      <td>20799</td>\n",
       "    </tr>\n",
       "  </tbody>\n",
       "</table>\n",
       "<p>135 rows × 2 columns</p>\n",
       "</div>"
      ],
      "text/plain": [
       "          Name  Count\n",
       "Year                 \n",
       "1880      John   9655\n",
       "1881      John   8769\n",
       "1882      John   9557\n",
       "1883      John   8894\n",
       "1884      John   9388\n",
       "...        ...    ...\n",
       "2010  Isabella  22883\n",
       "2011    Sophia  21816\n",
       "2012    Sophia  22267\n",
       "2013    Sophia  21147\n",
       "2014      Emma  20799\n",
       "\n",
       "[135 rows x 2 columns]"
      ]
     },
     "execution_count": 250,
     "metadata": {},
     "output_type": "execute_result"
    }
   ],
   "source": [
    "popular_indices = df.groupby('Year')['Count'].idxmax()\n",
    "popular = df.loc[popular_indices, ['Year', 'Name', 'Count']]\n",
    "popular = popular.set_index('Year')\n",
    "popular"
   ]
  },
  {
   "cell_type": "code",
   "execution_count": 269,
   "id": "334817b2-a111-4d99-af7e-82410e5f9d7b",
   "metadata": {},
   "outputs": [
    {
     "data": {
      "text/html": [
       "<div>\n",
       "<style scoped>\n",
       "    .dataframe tbody tr th:only-of-type {\n",
       "        vertical-align: middle;\n",
       "    }\n",
       "\n",
       "    .dataframe tbody tr th {\n",
       "        vertical-align: top;\n",
       "    }\n",
       "\n",
       "    .dataframe thead th {\n",
       "        text-align: right;\n",
       "    }\n",
       "</style>\n",
       "<table border=\"1\" class=\"dataframe\">\n",
       "  <thead>\n",
       "    <tr style=\"text-align: right;\">\n",
       "      <th></th>\n",
       "      <th>Id</th>\n",
       "      <th>Name</th>\n",
       "      <th>Year</th>\n",
       "      <th>Gender</th>\n",
       "      <th>Count</th>\n",
       "    </tr>\n",
       "  </thead>\n",
       "  <tbody>\n",
       "    <tr>\n",
       "      <th>228</th>\n",
       "      <td>229</td>\n",
       "      <td>John</td>\n",
       "      <td>1880</td>\n",
       "      <td>F</td>\n",
       "      <td>46</td>\n",
       "    </tr>\n",
       "    <tr>\n",
       "      <th>942</th>\n",
       "      <td>943</td>\n",
       "      <td>John</td>\n",
       "      <td>1880</td>\n",
       "      <td>M</td>\n",
       "      <td>9655</td>\n",
       "    </tr>\n",
       "    <tr>\n",
       "      <th>2312</th>\n",
       "      <td>2313</td>\n",
       "      <td>John</td>\n",
       "      <td>1881</td>\n",
       "      <td>F</td>\n",
       "      <td>26</td>\n",
       "    </tr>\n",
       "    <tr>\n",
       "      <th>2938</th>\n",
       "      <td>2939</td>\n",
       "      <td>John</td>\n",
       "      <td>1881</td>\n",
       "      <td>M</td>\n",
       "      <td>8769</td>\n",
       "    </tr>\n",
       "    <tr>\n",
       "      <th>4212</th>\n",
       "      <td>4213</td>\n",
       "      <td>John</td>\n",
       "      <td>1882</td>\n",
       "      <td>F</td>\n",
       "      <td>40</td>\n",
       "    </tr>\n",
       "    <tr>\n",
       "      <th>...</th>\n",
       "      <td>...</td>\n",
       "      <td>...</td>\n",
       "      <td>...</td>\n",
       "      <td>...</td>\n",
       "      <td>...</td>\n",
       "    </tr>\n",
       "    <tr>\n",
       "      <th>1744997</th>\n",
       "      <td>1744998</td>\n",
       "      <td>John</td>\n",
       "      <td>2012</td>\n",
       "      <td>M</td>\n",
       "      <td>10593</td>\n",
       "    </tr>\n",
       "    <tr>\n",
       "      <th>1766701</th>\n",
       "      <td>1766702</td>\n",
       "      <td>John</td>\n",
       "      <td>2013</td>\n",
       "      <td>F</td>\n",
       "      <td>16</td>\n",
       "    </tr>\n",
       "    <tr>\n",
       "      <th>1778403</th>\n",
       "      <td>1778404</td>\n",
       "      <td>John</td>\n",
       "      <td>2013</td>\n",
       "      <td>M</td>\n",
       "      <td>10670</td>\n",
       "    </tr>\n",
       "    <tr>\n",
       "      <th>1800575</th>\n",
       "      <td>1800576</td>\n",
       "      <td>John</td>\n",
       "      <td>2014</td>\n",
       "      <td>F</td>\n",
       "      <td>14</td>\n",
       "    </tr>\n",
       "    <tr>\n",
       "      <th>1811481</th>\n",
       "      <td>1811482</td>\n",
       "      <td>John</td>\n",
       "      <td>2014</td>\n",
       "      <td>M</td>\n",
       "      <td>10600</td>\n",
       "    </tr>\n",
       "  </tbody>\n",
       "</table>\n",
       "<p>270 rows × 5 columns</p>\n",
       "</div>"
      ],
      "text/plain": [
       "              Id  Name  Year Gender  Count\n",
       "228          229  John  1880      F     46\n",
       "942          943  John  1880      M   9655\n",
       "2312        2313  John  1881      F     26\n",
       "2938        2939  John  1881      M   8769\n",
       "4212        4213  John  1882      F     40\n",
       "...          ...   ...   ...    ...    ...\n",
       "1744997  1744998  John  2012      M  10593\n",
       "1766701  1766702  John  2013      F     16\n",
       "1778403  1778404  John  2013      M  10670\n",
       "1800575  1800576  John  2014      F     14\n",
       "1811481  1811482  John  2014      M  10600\n",
       "\n",
       "[270 rows x 5 columns]"
      ]
     },
     "execution_count": 269,
     "metadata": {},
     "output_type": "execute_result"
    }
   ],
   "source": [
    "ins = df[df['Name'] == 'John']\n",
    "#df[['Name', 'Count']]\n",
    "ins"
   ]
  },
  {
   "cell_type": "code",
   "execution_count": 301,
   "id": "ec4e87da-8990-4ad7-b334-301c52762c9e",
   "metadata": {},
   "outputs": [
    {
     "data": {
      "text/plain": [
       "2008"
      ]
     },
     "execution_count": 301,
     "metadata": {},
     "output_type": "execute_result"
    }
   ],
   "source": [
    "#11. Знайдіть рік із найбільшою кількістю унікальних імен.\n",
    "unique = df.groupby('Year')['Name'].nunique()\n",
    "year = unique.idxmax()\n",
    "year"
   ]
  },
  {
   "cell_type": "code",
   "execution_count": 343,
   "id": "d4ecd5d5-3a3f-44e9-b8ab-889ae7bf9a2e",
   "metadata": {},
   "outputs": [
    {
     "data": {
      "text/plain": [
       "'Jacob'"
      ]
     },
     "execution_count": 343,
     "metadata": {},
     "output_type": "execute_result"
    }
   ],
   "source": [
    "#12. Знайдіть найпопулярніше ім’я в році з найбільшою кількістю унікальних імен (тобто у 2008 році)\n",
    "data_in_max_year = df[df['Year'] == year]\n",
    "\n",
    "# Крок 3: Знаходимо найпопулярніше ім'я в цьому році (з найбільшою кількістю народжень)\n",
    "most_popular_name = data_in_max_year.loc[data_in_max_year['Count'].idxmax()]\n",
    "most_popular_name['Name']"
   ]
  },
  {
   "cell_type": "code",
   "execution_count": null,
   "id": "88027aa7-d46f-4c21-9b93-97ad9adbd587",
   "metadata": {},
   "outputs": [],
   "source": []
  }
 ],
 "metadata": {
  "kernelspec": {
   "display_name": "Python 3 (ipykernel)",
   "language": "python",
   "name": "python3"
  },
  "language_info": {
   "codemirror_mode": {
    "name": "ipython",
    "version": 3
   },
   "file_extension": ".py",
   "mimetype": "text/x-python",
   "name": "python",
   "nbconvert_exporter": "python",
   "pygments_lexer": "ipython3",
   "version": "3.12.4"
  }
 },
 "nbformat": 4,
 "nbformat_minor": 5
}
