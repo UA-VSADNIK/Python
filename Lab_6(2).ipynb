{
 "cells": [
  {
   "cell_type": "code",
   "execution_count": 4,
   "id": "e9b43c98-b25a-4ee5-b6a2-a6dd3cb8e9e8",
   "metadata": {},
   "outputs": [
    {
     "name": "stdout",
     "output_type": "stream",
     "text": [
      "Варіант 7\n"
     ]
    }
   ],
   "source": [
    "N = ord(\"V\") %10 + 1\n",
    "print(\"Варіант\",N)"
   ]
  },
  {
   "cell_type": "code",
   "execution_count": 4,
   "id": "b3b0f736-64f1-45bf-9ea1-1caccf503484",
   "metadata": {},
   "outputs": [
    {
     "name": "stdout",
     "output_type": "stream",
     "text": [
      "Result:  0|101\n",
      "Result:  1|101.1\n"
     ]
    }
   ],
   "source": [
    "def to_the_binary_NS(num):\n",
    "    spisok = []\n",
    "    if(num == 0):\n",
    "        print(\"Error, number = 0!\")\n",
    "    else:\n",
    "        if(isinstance(num, int)):\n",
    "            if(num > 0 ):\n",
    "                while(num > 0):\n",
    "                    spisok.append(str(num%2))\n",
    "                    num = num//2\n",
    "                spisok.append(\"0|\")\n",
    "                spisok.reverse()    \n",
    "                print(\"Result: \",\"\".join(spisok))\n",
    "            else:\n",
    "                num = abs(num)\n",
    "                while(num > 0):\n",
    "                    spisok.append(str(num%2))\n",
    "                    num = num//2 \n",
    "                spisok.append(\"1|\")\n",
    "                spisok.reverse()\n",
    "                print(\"Result: \",\"\".join(spisok))\n",
    "     \n",
    "        elif isinstance(num, float):\n",
    "            result = \"\"\n",
    "            spisok = []\n",
    "\n",
    "            # Обробка цілої частини\n",
    "            integer_part = int(abs(num))\n",
    "            fractional_part = abs(num) - integer_part\n",
    "\n",
    "            if integer_part > 0:\n",
    "                while integer_part > 0:\n",
    "                    spisok.append(str(integer_part % 2))\n",
    "                    integer_part = integer_part // 2\n",
    "                spisok.reverse()\n",
    "                result += \"\".join(spisok) + \".\"\n",
    "            else:\n",
    "                result = \"0.\"\n",
    "\n",
    "            # Обробка дробової частини\n",
    "            spisok = []\n",
    "            while fractional_part != 0 and len(spisok) < 10:  # Обмеження на 10 знаків після коми\n",
    "                fractional_part *= 2\n",
    "                if fractional_part >= 1:\n",
    "                    spisok.append(\"1\")\n",
    "                    fractional_part -= 1\n",
    "                else:\n",
    "                    spisok.append(\"0\")\n",
    "    \n",
    "            result += \"\".join(spisok)\n",
    "\n",
    "        # Додаємо позначку для від'ємних чисел\n",
    "            if num < 0:\n",
    "                result = \"1|\" + result\n",
    "\n",
    "            print(\"Result: \", result)\n",
    "        else:\n",
    "            print(\"ERROR!\")\n",
    "        \n",
    "\n",
    "number = 5\n",
    "to_the_binary_NS(number)\n",
    "number = -5.5\n",
    "to_the_binary_NS(number)"
   ]
  },
  {
   "cell_type": "code",
   "execution_count": null,
   "id": "1d32a381-5b8a-4984-9e25-0e7d33a83697",
   "metadata": {},
   "outputs": [],
   "source": []
  }
 ],
 "metadata": {
  "kernelspec": {
   "display_name": "Python 3 (ipykernel)",
   "language": "python",
   "name": "python3"
  },
  "language_info": {
   "codemirror_mode": {
    "name": "ipython",
    "version": 3
   },
   "file_extension": ".py",
   "mimetype": "text/x-python",
   "name": "python",
   "nbconvert_exporter": "python",
   "pygments_lexer": "ipython3",
   "version": "3.12.4"
  }
 },
 "nbformat": 4,
 "nbformat_minor": 5
}
